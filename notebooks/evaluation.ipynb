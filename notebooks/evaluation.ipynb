{
 "cells": [
  {
   "cell_type": "code",
   "execution_count": null,
   "id": "58cba857",
   "metadata": {},
   "outputs": [],
   "source": [
    "from src.evaluate import evaluate_model\n",
    "from tensorflow.keras.models import load_model\n",
    "\n",
    "# Load preprocessed data\n",
    "df = pd.read_csv('../data/CICIDS2017_improved/full_dataset.csv')\n",
    "df = preprocess(df)\n",
    "\n",
    "X = df.drop('Label', axis=1)\n",
    "y = df['Label']\n",
    "\n",
    "model = load_model('outputs/models/best_model.h5')\n",
    "evaluate_model(model, X, y)\n"
   ]
  }
 ],
 "metadata": {
  "language_info": {
   "name": "python"
  }
 },
 "nbformat": 4,
 "nbformat_minor": 5
}
