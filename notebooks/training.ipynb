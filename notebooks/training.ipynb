{
 "cells": [
  {
   "cell_type": "code",
   "execution_count": null,
   "id": "a4044c36",
   "metadata": {},
   "outputs": [],
   "source": [
    "import pandas as pd\n",
    "from src.data_processing import preprocess\n",
    "from src.model import build_model\n",
    "from src.train import train_model\n",
    "\n",
    "# Load your dataset\n",
    "df = pd.read_csv('../data/CICIDS2017_improved/full_dataset.csv')\n",
    "df = preprocess(df)\n",
    "\n",
    "X = df.drop('Label', axis=1)\n",
    "y = df['Label']\n",
    "\n",
    "model = build_model(X.shape[1])\n",
    "history = train_model(model, X, y)\n"
   ]
  }
 ],
 "metadata": {
  "language_info": {
   "name": "python"
  }
 },
 "nbformat": 4,
 "nbformat_minor": 5
}
